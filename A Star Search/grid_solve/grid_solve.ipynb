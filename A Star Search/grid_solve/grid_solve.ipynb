{
 "cells": [
  {
   "cell_type": "code",
   "execution_count": 6,
   "metadata": {},
   "outputs": [
    {
     "data": {
      "image/png": "[encoded data removed]",
      "text/plain": [
       "<Figure size 720x720 with 1 Axes>"
      ]
     },
     "metadata": {
      "needs_background": "light"
     },
     "output_type": "display_data"
    },
    {
     "data": {
      "image/png": "[encoded data removed]",
      "text/plain": [
       "<Figure size 720x720 with 1 Axes>"
      ]
     },
     "metadata": {
      "needs_background": "light"
     },
     "output_type": "display_data"
    },
    {
     "name": "stdout",
     "output_type": "stream",
     "text": [
      "Path: [(9, 9), (8, 8), (8, 9), (7, 8), (7, 9), (6, 8), (6, 9), (5, 8), (5, 9), (4, 8), (4, 7), (3, 6), (2, 5), (1, 4), (0, 3), (1, 2), (2, 2), (3, 2), (4, 1), (5, 0), (6, 1), (7, 2), (8, 2)]\n",
      "Path cost: 22\n"
     ]
    }
   ],
   "source": [
    "# A* search algorithm for shortest path using the g(n) and h(n) values from graph\n",
    "\n",
    "import numpy as np\n",
    "import matplotlib.pyplot as plt\n",
    "\n",
    "# Grid class\n",
    "class Grid:\n",
    "    # Constructor\n",
    "    def __init__(self, graph, start, goal):\n",
    "        self.graph = graph\n",
    "        self.start = start\n",
    "        self.goal = goal\n",
    "        self.path = []\n",
    "        self.visited = []\n",
    "        self.unvisited = []\n",
    "        self.g = {}\n",
    "        self.h = {}\n",
    "        self.f = {}\n",
    "        self.parent = {}\n",
    "        self.cost = 0\n",
    "        self.path_cost = 0\n",
    "        self.visited.append(self.start)\n",
    "        self.unvisited.append(self.start)\n",
    "        self.g[self.start] = 0\n",
    "        self.h[self.start] = self.heuristic(self.start)\n",
    "        self.f[self.start] = self.g[self.start] + self.h[self.start]\n",
    "        self.parent[self.start] = self.start\n",
    "\n",
    "    # Heuristic function\n",
    "    def heuristic(self, node):\n",
    "        return np.sqrt((self.goal[0] - node[0])**2 + (self.goal[1] - node[1])**2)\n",
    "\n",
    "    # A* search algorithm\n",
    "    def a_star(self):\n",
    "        while self.unvisited:\n",
    "            # Find the node with the minimum f value\n",
    "            min_f = self.f[self.unvisited[0]]\n",
    "            min_node = self.unvisited[0]\n",
    "            for node in self.unvisited:\n",
    "                if self.f[node] < min_f:\n",
    "                    min_f = self.f[node]\n",
    "                    min_node = node\n",
    "            # Remove the node from the unvisited list\n",
    "            self.unvisited.remove(min_node)\n",
    "            # Add the node to the visited list\n",
    "            self.visited.append(min_node)\n",
    "            # Check if the goal is reached\n",
    "            if min_node == self.goal:\n",
    "                # Calculate the path\n",
    "                self.path.append(self.goal)\n",
    "                self.path_cost = self.g[self.goal]\n",
    "                while self.parent[self.path[-1]] != self.start:\n",
    "                    self.path.append(self.parent[self.path[-1]])\n",
    "                self.path.append(self.start)\n",
    "                self.path.reverse()\n",
    "                break\n",
    "            # Find the neighbors of the current node\n",
    "            neighbors = []\n",
    "            for i in range(-1, 2):\n",
    "                for j in range(-1, 2):\n",
    "                    if i == 0 and j == 0:\n",
    "                        continue\n",
    "                    neighbor = (min_node[0] + i, min_node[1] + j)\n",
    "                    if neighbor[0] < 0 or neighbor[0] >= self.graph.shape[0] or neighbor[1] < 0 or neighbor[1] >= self.graph.shape[1]:\n",
    "                        continue\n",
    "                    if self.graph[neighbor[0], neighbor[1]] == 1:       # Obstacle\n",
    "                        continue\n",
    "                    neighbors.append(neighbor)\n",
    "            # Update the g, h, f, and parent values of the neighbors\n",
    "            for neighbor in neighbors:\n",
    "                if neighbor in self.visited:\n",
    "                    continue\n",
    "                if neighbor not in self.unvisited:\n",
    "                    self.unvisited.append(neighbor)\n",
    "                self.g[neighbor] = self.g[min_node] + 1\n",
    "                self.h[neighbor] = self.heuristic(neighbor)\n",
    "                self.f[neighbor] = self.g[neighbor] + self.h[neighbor]\n",
    "                self.parent[neighbor] = min_node\n",
    "\n",
    "    # Plot the graph\n",
    "    def plot_graph(self):\n",
    "        plt.figure(figsize=(10, 10))\n",
    "        plt.imshow(self.graph)\n",
    "        plt.plot(self.start[1], self.start[0], 'ro', label='Start', markersize=10)\n",
    "        plt.plot(self.goal[1], self.goal[0], 'bo', label='Goal', markersize=10)\n",
    "        plt.grid()\n",
    "        plt.legend()\n",
    "        plt.show()\n",
    "\n",
    "    # Plot the path\n",
    "    def plot_path(self):\n",
    "        plt.figure(figsize=(10, 10))\n",
    "        plt.imshow(self.graph)\n",
    "        plt.plot(self.start[1], self.start[0], 'ro', label='Start', markersize=10)\n",
    "        plt.plot(self.goal[1], self.goal[0], 'bo', label='Goal', markersize=10)\n",
    "        plt.plot([node[1] for node in self.path], [node[0] for node in self.path], 'r', label='Path')\n",
    "        plt.grid()\n",
    "        plt.legend()\n",
    "        plt.show()\n",
    "\n",
    "# Main function\n",
    "def main():\n",
    "    # Create the graph\n",
    "    graph = np.zeros((10, 10))\n",
    "    graph[1:4, 3] = 1\n",
    "    graph[4, 2:5] = 1\n",
    "    graph[5, 1:4] = 1\n",
    "    graph[6, 2:5] = 1\n",
    "    graph[7, 3:6] = 1\n",
    "    graph[8, 4:7] = 1\n",
    "    graph[9, 5:8] = 1\n",
    "    # Create the graph object\n",
    "    graph_obj = Grid(graph, (9, 9), (8, 2))\n",
    "    # Plot the graph\n",
    "    graph_obj.plot_graph()\n",
    "    # Find the shortest path\n",
    "    graph_obj.a_star()\n",
    "    # Plot the path\n",
    "    graph_obj.plot_path()\n",
    "    # Print the path\n",
    "    print('Path:', graph_obj.path)\n",
    "    print('Path cost:', graph_obj.path_cost)\n",
    "\n",
    "main()"
   ]
  },
  {
   "cell_type": "code",
   "execution_count": null,
   "metadata": {},
   "outputs": [],
   "source": []
  }
 ],
 "metadata": {
  "kernelspec": {
   "display_name": "venv",
   "language": "python",
   "name": "venv"
  },
  "language_info": {
   "codemirror_mode": {
    "name": "ipython",
    "version": 3
   },
   "file_extension": ".py",
   "mimetype": "text/x-python",
   "name": "python",
   "nbconvert_exporter": "python",
   "pygments_lexer": "ipython3",
   "version": "3.7.4"
  },
  "orig_nbformat": 4
 },
 "nbformat": 4,
 "nbformat_minor": 2
}
