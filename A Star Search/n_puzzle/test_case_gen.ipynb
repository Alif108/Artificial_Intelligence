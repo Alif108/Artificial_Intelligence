{
 "cells": [
  {
   "cell_type": "markdown",
   "metadata": {},
   "source": [
    "# Generating Test Cases for 8 Puzzle Problem"
   ]
  },
  {
   "cell_type": "code",
   "execution_count": 61,
   "metadata": {},
   "outputs": [],
   "source": [
    "import numpy as np\n",
    "\n",
    "def count_inversion(init_matrix):\n",
    "    # Inversion count is the occurrence of smaller numbers after a certain number\n",
    "    inversion_count = 0\n",
    "    array_of_num = []\n",
    "\n",
    "    # Converting to a 1D array\n",
    "    for i in range(len(init_matrix)):\n",
    "        for j in range(len(init_matrix[i])):\n",
    "            array_of_num.append(init_matrix[i][j])\n",
    "\n",
    "    # Iterating over the array\n",
    "    for i in range(len(array_of_num)):\n",
    "        x = array_of_num[i]\n",
    "        for j in range(i + 1, len(array_of_num)):\n",
    "            if array_of_num[j] < x and array_of_num[j] != 0:  # If there is any smaller number after index of x\n",
    "                inversion_count += 1\n",
    "\n",
    "    return inversion_count\n",
    "\n",
    "def is_solvable(size, init_matrix):\n",
    "    flat_puzzle = [num for row in init_matrix for num in row]\n",
    "    \n",
    "    if size % 2 != 0:  # If grid size is odd\n",
    "        if count_inversion(init_matrix) % 2 == 0:  # If inversion is even -> solvable\n",
    "            return True\n",
    "        else:  # If inversion is odd -> not solvable\n",
    "            return False\n",
    "    else:  # If grid size is even\n",
    "        blank_pos = [(i, j) for i, row in enumerate(init_matrix) for j, num in enumerate(row) if num == 0][0]\n",
    "\n",
    "        if (blank_pos[0] % 2 == 0) and (count_inversion(init_matrix) % 2 != 0):  # If blank is in even row and inversion count is odd -> solvable\n",
    "            return True\n",
    "        elif (blank_pos[0] % 2 != 0) and (count_inversion(init_matrix) % 2 == 0):  # If blank is in odd row and inversion count is even -> solvable\n",
    "            return True\n",
    "        else:\n",
    "            return False\n",
    "\n",
    "def print_puzzle_board(board):\n",
    "    for row in board:\n",
    "        print(\" \".join(str(x) for x in row))\n",
    "    print()"
   ]
  },
  {
   "cell_type": "code",
   "execution_count": 62,
   "metadata": {},
   "outputs": [
    {
     "name": "stdout",
     "output_type": "stream",
     "text": [
      "Unique Solvable Initial Puzzle:\n",
      "4 5 7\n",
      "6 1 8\n",
      "0 3 2\n",
      "\n"
     ]
    }
   ],
   "source": [
    "def generate_solved_puzzle(n):\n",
    "    numbers = list(range(1, n * n)) + [0]\n",
    "    return [numbers[i:i + n] for i in range(0, len(numbers), n)]\n",
    "\n",
    "def generate_unique_solvable_puzzle(n):\n",
    "    while True:\n",
    "        goal_puzzle = generate_solved_puzzle(n)\n",
    "\n",
    "        # Flatten the goal puzzle and shuffle the tiles using Fisher-Yates shuffle\n",
    "        flat_puzzle = [num for row in goal_puzzle for num in row]\n",
    "        for i in range(len(flat_puzzle) - 1, 0, -1):\n",
    "            j = np.random.randint(0, i)\n",
    "            flat_puzzle[i], flat_puzzle[j] = flat_puzzle[j], flat_puzzle[i]\n",
    "\n",
    "        # Convert the flat puzzle back to a 2D list\n",
    "        initial_puzzle = [flat_puzzle[i:i + n] for i in range(0, len(flat_puzzle), n)]\n",
    "\n",
    "        # Check if the initial puzzle is solvable\n",
    "        if is_solvable(3, initial_puzzle):\n",
    "            return initial_puzzle\n",
    "\n",
    "\n",
    "n = 3  # Change 'n' for different sizes (e.g., 3 for 8-Puzzle)\n",
    "unique_solvable_puzzle = generate_unique_solvable_puzzle(n)\n",
    "\n",
    "print(\"Unique Solvable Initial Puzzle:\")\n",
    "print_puzzle_board(unique_solvable_puzzle)\n"
   ]
  },
  {
   "cell_type": "code",
   "execution_count": 63,
   "metadata": {},
   "outputs": [
    {
     "name": "stdout",
     "output_type": "stream",
     "text": [
      "Unsolvable Puzzle:\n",
      "1 2 3\n",
      "4 6 5\n",
      "7 8 0\n",
      "\n",
      "Is solvable: False\n"
     ]
    }
   ],
   "source": [
    "def generate_unsolvable_puzzle():\n",
    "    puzzle = [[1, 2, 3], [4, 5, 6], [7, 8, 0]]\n",
    "    while True:\n",
    "        # Choose two random positions (excluding the blank tile)\n",
    "        pos1 = np.random.randint(1, 8)\n",
    "        pos2 = np.random.randint(1, 8)\n",
    "        if pos1 == pos2:\n",
    "            continue\n",
    "        \n",
    "        # Convert positions to row and column\n",
    "        row1, col1 = divmod(pos1 - 1, 3)\n",
    "        row2, col2 = divmod(pos2 - 1, 3)\n",
    "        \n",
    "        # Swap the tiles\n",
    "        puzzle[row1][col1], puzzle[row2][col2] = puzzle[row2][col2], puzzle[row1][col1]\n",
    "        break\n",
    "\n",
    "    return puzzle\n",
    "\n",
    "unsolvable_puzzle = generate_unsolvable_puzzle()\n",
    "\n",
    "print(\"Unsolvable Puzzle:\")\n",
    "print_puzzle_board(unsolvable_puzzle)\n",
    "\n",
    "print(\"Is solvable:\", is_solvable(3, unsolvable_puzzle))"
   ]
  },
  {
   "cell_type": "code",
   "execution_count": 64,
   "metadata": {},
   "outputs": [],
   "source": [
    "import pandas as pd\n",
    "\n",
    "def generate_puzzle_dataframe(puzzles):\n",
    "    data = {\n",
    "        \"index\": range(1, len(puzzles) + 1),\n",
    "        \"configuration\": puzzles\n",
    "    }\n",
    "    df = pd.DataFrame(data)\n",
    "    return df\n",
    "\n",
    "def save_puzzles_to_excel(puzzles_df, file_name):\n",
    "    puzzles_df.to_excel(file_name, index=False)"
   ]
  },
  {
   "cell_type": "code",
   "execution_count": 65,
   "metadata": {},
   "outputs": [
    {
     "name": "stdout",
     "output_type": "stream",
     "text": [
      "150 unique solvable puzzle configurations saved to 150_solvable_puzzles.xlsx\n"
     ]
    }
   ],
   "source": [
    "n = 3  # Change 'n' for different sizes (e.g., 3 for 8-Puzzle)\n",
    "num_puzzles = 150\n",
    "unique_solvable_puzzles = [generate_unique_solvable_puzzle(n) for _ in range(num_puzzles)]\n",
    "\n",
    "# Convert puzzles to DataFrame with \"index\" and \"configuration\" columns\n",
    "puzzles_df = generate_puzzle_dataframe(unique_solvable_puzzles)\n",
    "\n",
    "# Save the puzzles to an Excel file\n",
    "file_name = \"150_solvable_puzzles.xlsx\"\n",
    "save_puzzles_to_excel(puzzles_df, file_name)\n",
    "print(f\"{num_puzzles} unique solvable puzzle configurations saved to {file_name}\")"
   ]
  },
  {
   "cell_type": "code",
   "execution_count": 67,
   "metadata": {},
   "outputs": [
    {
     "name": "stdout",
     "output_type": "stream",
     "text": [
      "150 unique solvable puzzle configurations saved to 150_unsolvable_puzzles.xlsx\n"
     ]
    }
   ],
   "source": [
    "n = 3  # Change 'n' for different sizes (e.g., 3 for 8-Puzzle)\n",
    "num_puzzles = 150\n",
    "unique_solvable_puzzles = [generate_unsolvable_puzzle() for _ in range(num_puzzles)]\n",
    "\n",
    "# Convert puzzles to DataFrame with \"index\" and \"configuration\" columns\n",
    "puzzles_df = generate_puzzle_dataframe(unique_solvable_puzzles)\n",
    "\n",
    "# Save the puzzles to an Excel file\n",
    "file_name = \"150_unsolvable_puzzles.xlsx\"\n",
    "save_puzzles_to_excel(puzzles_df, file_name)\n",
    "print(f\"{num_puzzles} unique solvable puzzle configurations saved to {file_name}\")"
   ]
  },
  {
   "cell_type": "code",
   "execution_count": null,
   "metadata": {},
   "outputs": [],
   "source": []
  }
 ],
 "metadata": {
  "kernelspec": {
   "display_name": "Python 3",
   "language": "python",
   "name": "python3"
  },
  "language_info": {
   "codemirror_mode": {
    "name": "ipython",
    "version": 3
   },
   "file_extension": ".py",
   "mimetype": "text/x-python",
   "name": "python",
   "nbconvert_exporter": "python",
   "pygments_lexer": "ipython3",
   "version": "3.11.4"
  },
  "orig_nbformat": 4
 },
 "nbformat": 4,
 "nbformat_minor": 2
}
