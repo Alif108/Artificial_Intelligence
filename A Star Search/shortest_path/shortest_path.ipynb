{
 "cells": [
  {
   "cell_type": "code",
   "execution_count": 41,
   "metadata": {},
   "outputs": [
    {
     "data": {
      "text/plain": [
       "[['A', 'B', '6', '8'],\n",
       " ['A', 'F', '3', '6'],\n",
       " ['B', 'C', '3', '5'],\n",
       " ['B', 'D', '2', '7'],\n",
       " ['C', 'D', '1', '7'],\n",
       " ['D', 'C', '1', '5'],\n",
       " ['C', 'E', '5', '3'],\n",
       " ['D', 'E', '8', '3'],\n",
       " ['F', 'G', '1', '5'],\n",
       " ['F', 'H', '7', '3'],\n",
       " ['G', 'I', '3', '1'],\n",
       " ['H', 'I', '2', '1'],\n",
       " ['E', 'I', '5', '1'],\n",
       " ['E', 'J', '5', '0'],\n",
       " ['I', 'E', '5', '3'],\n",
       " ['I', 'J', '3', '0']]"
      ]
     },
     "execution_count": 41,
     "metadata": {},
     "output_type": "execute_result"
    }
   ],
   "source": [
    "import csv\n",
    "\n",
    "path = \"graph.csv\"\n",
    "graph = []\n",
    "\n",
    "with open(path, \"r\") as csvfile:\n",
    "    reader_variable = csv.reader(csvfile, delimiter=\",\")\n",
    "    for row in reader_variable:\n",
    "        graph.append(row)\n",
    "\n",
    "graph"
   ]
  },
  {
   "cell_type": "code",
   "execution_count": 42,
   "metadata": {},
   "outputs": [],
   "source": [
    "class Graph:\n",
    "    def __init__(self, graph, start, goal):\n",
    "        self.graph = graph\n",
    "        self.start = start\n",
    "        self.goal = goal\n",
    "        self.path = []\n",
    "        self.visited = []\n",
    "        self.unvisited = []\n",
    "        self.g = {}\n",
    "        self.h = {}\n",
    "        self.f = {}\n",
    "        self.parent = {}\n",
    "        self.cost = 0\n",
    "        self.path_cost = 0\n",
    "        self.visited.append(self.start)\n",
    "        self.unvisited.append(self.start)\n",
    "        self.g[self.start] = 0\n",
    "        self.h[self.start] = 0\n",
    "        self.f[self.start] = self.g[self.start] + self.h[self.start]\n",
    "        self.parent[self.start] = self.start\n",
    "\n",
    "    def get_g(self, start, end):\n",
    "        # graph is a list of lists [start, end, g, h]\n",
    "        for i in range(len(self.graph)):\n",
    "            if (self.graph[i][0] == start) and (self.graph[i][1] == end):\n",
    "                return self.graph[i][2]\n",
    "\n",
    "    def get_h(self, start, end):\n",
    "        # graph is a list of lists [start, end, g, h]\n",
    "        for i in range(len(self.graph)):\n",
    "            if (self.graph[i][0] == start) and (self.graph[i][1] == end):\n",
    "                return self.graph[i][3]\n",
    "\n",
    "    def get_neighbors(self, node):\n",
    "        neighbors = []\n",
    "        for i in range(len(self.graph)):\n",
    "            if (self.graph[i][0] == node) and (self.graph[i][1] != self.parent[node]):\n",
    "                neighbors.append(self.graph[i][1])\n",
    "        return neighbors\n",
    "\n",
    "    def a_star(self):\n",
    "        while self.unvisited:\n",
    "            min_f = self.f[self.unvisited[0]]\n",
    "            min_node = self.unvisited[0]\n",
    "            for node in self.unvisited:\n",
    "                if self.f[node] < min_f:\n",
    "                    min_f = self.f[node]\n",
    "                    min_node = node\n",
    "            # Remove the node from the unvisited list\n",
    "            self.unvisited.remove(min_node)\n",
    "            # Add the node to the visited list\n",
    "            self.visited.append(min_node)\n",
    "            # Check if the goal is reached\n",
    "            if min_node == self.goal:\n",
    "                # Calculate the path\n",
    "                self.path.append(self.goal)\n",
    "                self.path_cost = self.g[self.goal]\n",
    "                while self.parent[self.path[-1]] != self.start:\n",
    "                    self.path.append(self.parent[self.path[-1]])\n",
    "                self.path.append(self.start)\n",
    "                self.path.reverse()\n",
    "                break\n",
    "\n",
    "            # Get the neighbors of the current node\n",
    "            neighbors = self.get_neighbors(min_node)\n",
    "\n",
    "            # Calculate the g, h, f values for each neighbor\n",
    "            for neighbor in neighbors:\n",
    "                if neighbor in self.visited:\n",
    "                    continue\n",
    "                if neighbor not in self.unvisited:\n",
    "                    self.unvisited.append(neighbor)\n",
    "                self.g[neighbor] = self.g[min_node] + self.get_g(min_node, neighbor)\n",
    "                self.h[neighbor] = self.get_h(min_node, neighbor)\n",
    "                self.f[neighbor] = self.g[neighbor] + self.h[neighbor]\n",
    "                self.parent[neighbor] = min_node\n",
    "\n",
    "    def print_path(self):\n",
    "        print(\"Path: \", self.path)\n",
    "        print(\"Path Cost: \", self.path_cost)"
   ]
  },
  {
   "cell_type": "code",
   "execution_count": 46,
   "metadata": {},
   "outputs": [
    {
     "name": "stdout",
     "output_type": "stream",
     "text": [
      "Path: ['A', 'F', 'G', 'I', 'J']\n",
      "Path cost: 10\n"
     ]
    }
   ],
   "source": [
    "graph_obj = Graph(graph_list, 'A', 'J')\n",
    "graph_obj.a_star()\n",
    "print('Path:', graph_obj.path)\n",
    "print('Path cost:', graph_obj.path_cost)"
   ]
  },
  {
   "cell_type": "code",
   "execution_count": null,
   "metadata": {},
   "outputs": [],
   "source": []
  }
 ],
 "metadata": {
  "kernelspec": {
   "display_name": "venv",
   "language": "python",
   "name": "venv"
  },
  "language_info": {
   "codemirror_mode": {
    "name": "ipython",
    "version": 3
   },
   "file_extension": ".py",
   "mimetype": "text/x-python",
   "name": "python",
   "nbconvert_exporter": "python",
   "pygments_lexer": "ipython3",
   "version": "3.7.4"
  },
  "orig_nbformat": 4
 },
 "nbformat": 4,
 "nbformat_minor": 2
}
